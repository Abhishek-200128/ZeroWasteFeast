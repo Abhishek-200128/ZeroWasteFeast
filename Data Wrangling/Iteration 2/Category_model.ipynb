{
 "cells": [
  {
   "cell_type": "code",
   "execution_count": 1,
   "id": "61d2988d",
   "metadata": {},
   "outputs": [],
   "source": [
    "import numpy as np\n",
    "import pandas as pd\n",
    "import matplotlib.pyplot as plt\n",
    "import seaborn as sns \n",
    "from sklearn.naive_bayes import MultinomialNB\n",
    "from sklearn.svm import SVC\n",
    "from sklearn.neighbors import KNeighborsClassifier\n",
    "from sklearn.tree import DecisionTreeClassifier\n",
    "import warnings\n",
    "warnings.filterwarnings('ignore')"
   ]
  },
  {
   "cell_type": "code",
   "execution_count": 51,
   "id": "ce9bd40a",
   "metadata": {},
   "outputs": [],
   "source": [
    "df=pd.read_csv(\"Australia_Grocery_2022Sep.csv\")"
   ]
  },
  {
   "cell_type": "code",
   "execution_count": null,
   "id": "b17b6a36",
   "metadata": {},
   "outputs": [],
   "source": [
    "df.head(10)"
   ]
  },
  {
   "cell_type": "code",
   "execution_count": null,
   "id": "91f4d30d",
   "metadata": {},
   "outputs": [],
   "source": [
    "df.isnull().sum()"
   ]
  },
  {
   "cell_type": "code",
   "execution_count": 52,
   "id": "f9eddced",
   "metadata": {},
   "outputs": [
    {
     "data": {
      "text/html": [
       "<div>\n",
       "<style scoped>\n",
       "    .dataframe tbody tr th:only-of-type {\n",
       "        vertical-align: middle;\n",
       "    }\n",
       "\n",
       "    .dataframe tbody tr th {\n",
       "        vertical-align: top;\n",
       "    }\n",
       "\n",
       "    .dataframe thead th {\n",
       "        text-align: right;\n",
       "    }\n",
       "</style>\n",
       "<table border=\"1\" class=\"dataframe\">\n",
       "  <thead>\n",
       "    <tr style=\"text-align: right;\">\n",
       "      <th></th>\n",
       "      <th>Product_Name</th>\n",
       "      <th>Category</th>\n",
       "    </tr>\n",
       "  </thead>\n",
       "  <tbody>\n",
       "    <tr>\n",
       "      <th>0</th>\n",
       "      <td>RSPCA Approved Chicken Necks</td>\n",
       "      <td>Meat &amp; seafood</td>\n",
       "    </tr>\n",
       "    <tr>\n",
       "      <th>1</th>\n",
       "      <td>RSPCA Approved Chicken Livers</td>\n",
       "      <td>Meat &amp; seafood</td>\n",
       "    </tr>\n",
       "    <tr>\n",
       "      <th>2</th>\n",
       "      <td>RSPCA Approved Chicken Giblets</td>\n",
       "      <td>Meat &amp; seafood</td>\n",
       "    </tr>\n",
       "    <tr>\n",
       "      <th>3</th>\n",
       "      <td>RSPCA Approved Chicken Frames</td>\n",
       "      <td>Meat &amp; seafood</td>\n",
       "    </tr>\n",
       "    <tr>\n",
       "      <th>4</th>\n",
       "      <td>RSPCA Chicken Schnitzel Plain Crumb</td>\n",
       "      <td>Meat &amp; seafood</td>\n",
       "    </tr>\n",
       "  </tbody>\n",
       "</table>\n",
       "</div>"
      ],
      "text/plain": [
       "                          Product_Name        Category\n",
       "0         RSPCA Approved Chicken Necks  Meat & seafood\n",
       "1        RSPCA Approved Chicken Livers  Meat & seafood\n",
       "2       RSPCA Approved Chicken Giblets  Meat & seafood\n",
       "3        RSPCA Approved Chicken Frames  Meat & seafood\n",
       "4  RSPCA Chicken Schnitzel Plain Crumb  Meat & seafood"
      ]
     },
     "execution_count": 52,
     "metadata": {},
     "output_type": "execute_result"
    }
   ],
   "source": [
    "df = df[['Product_Name', 'Category']]\n",
    "df.head()"
   ]
  },
  {
   "cell_type": "code",
   "execution_count": 53,
   "id": "2cc034b3",
   "metadata": {},
   "outputs": [
    {
     "name": "stdout",
     "output_type": "stream",
     "text": [
      "Number of duplicate rows: 480889\n"
     ]
    }
   ],
   "source": [
    "# Assuming your DataFrame is named df\n",
    "\n",
    "# Find all duplicate rows\n",
    "duplicate_rows = df[df.duplicated()]\n",
    "\n",
    "# Count the number of duplicate rows\n",
    "num_duplicates = duplicate_rows.shape[0]\n",
    "\n",
    "print(\"Number of duplicate rows:\", num_duplicates)"
   ]
  },
  {
   "cell_type": "code",
   "execution_count": 54,
   "id": "9335f826",
   "metadata": {},
   "outputs": [
    {
     "name": "stdout",
     "output_type": "stream",
     "text": [
      "                                         Product_Name        Category\n",
      "0                        RSPCA Approved Chicken Necks  Meat & seafood\n",
      "1                       RSPCA Approved Chicken Livers  Meat & seafood\n",
      "2                      RSPCA Approved Chicken Giblets  Meat & seafood\n",
      "3                       RSPCA Approved Chicken Frames  Meat & seafood\n",
      "4                 RSPCA Chicken Schnitzel Plain Crumb  Meat & seafood\n",
      "...                                               ...             ...\n",
      "7746                       Soft Drink Max Mango 375mL          Drinks\n",
      "7747                               Beef Topside Roast  Meat & seafood\n",
      "7748  Signature Series Dry Ginger Mixers Bottle 300mL          Drinks\n",
      "7749                               Pork Sausage Mince  Meat & seafood\n",
      "7750               Lindor Assorted Dark Chocolate Bag          Pantry\n",
      "\n",
      "[7751 rows x 2 columns]\n"
     ]
    }
   ],
   "source": [
    "# Remove duplicate rows\n",
    "df = df.drop_duplicates()\n",
    "\n",
    "# Reset the index (optional, but useful to avoid gaps in index numbers after removing duplicates)\n",
    "df = df.reset_index(drop=True)\n",
    "\n",
    "# Display the cleaned DataFrame\n",
    "print(df)"
   ]
  },
  {
   "cell_type": "code",
   "execution_count": 55,
   "id": "2a13c141",
   "metadata": {},
   "outputs": [
    {
     "data": {
      "text/plain": [
       "array(['Meat & seafood', 'Fruit & vegetables', 'Dairy, eggs & fridge',\n",
       "       'Bakery', 'Pantry', 'Drinks'], dtype=object)"
      ]
     },
     "execution_count": 55,
     "metadata": {},
     "output_type": "execute_result"
    }
   ],
   "source": [
    "df['Category'].unique()"
   ]
  },
  {
   "cell_type": "code",
   "execution_count": 56,
   "id": "f207976a",
   "metadata": {},
   "outputs": [],
   "source": [
    "df['Category'] = df['Category'].replace({'Fruit & vegetables': 'Fresh Produce', \n",
    "                                         'Dairy, eggs & fridge': 'Cold Storage',\n",
    "                                        'Bakery': 'Pantry', 'Meat & seafood': 'Meat'})"
   ]
  },
  {
   "cell_type": "code",
   "execution_count": 57,
   "id": "fbd6a4a3",
   "metadata": {},
   "outputs": [
    {
     "name": "stderr",
     "output_type": "stream",
     "text": [
      "[nltk_data] Downloading package punkt to /Users/abhishek/nltk_data...\n",
      "[nltk_data]   Package punkt is already up-to-date!\n",
      "[nltk_data] Downloading package stopwords to\n",
      "[nltk_data]     /Users/abhishek/nltk_data...\n",
      "[nltk_data]   Package stopwords is already up-to-date!\n",
      "[nltk_data] Downloading package wordnet to\n",
      "[nltk_data]     /Users/abhishek/nltk_data...\n",
      "[nltk_data]   Package wordnet is already up-to-date!\n",
      "[nltk_data] Downloading package averaged_perceptron_tagger to\n",
      "[nltk_data]     /Users/abhishek/nltk_data...\n",
      "[nltk_data]   Package averaged_perceptron_tagger is already up-to-\n",
      "[nltk_data]       date!\n",
      "[nltk_data] Downloading package words to /Users/abhishek/nltk_data...\n",
      "[nltk_data]   Package words is already up-to-date!\n"
     ]
    },
    {
     "data": {
      "text/plain": [
       "True"
      ]
     },
     "execution_count": 57,
     "metadata": {},
     "output_type": "execute_result"
    }
   ],
   "source": [
    "import nltk\n",
    "from nltk.stem import WordNetLemmatizer \n",
    "from nltk.tokenize import word_tokenize\n",
    "nltk.download('punkt') # tokenizer\n",
    "nltk.download('stopwords') # 'useless words'\n",
    "nltk.download('wordnet') # a library for finding synonyms antonyms and so on\n",
    "nltk.download('averaged_perceptron_tagger') # tagging data\n",
    "nltk.download('words')"
   ]
  },
  {
   "cell_type": "code",
   "execution_count": 58,
   "id": "b937a431",
   "metadata": {},
   "outputs": [],
   "source": [
    "\n",
    "import string\n",
    "\n",
    "def filterPunctuations(tokens):\n",
    "    '''Removes punctuations from the array of tokens and returns the resultant array'''\n",
    "    table = str.maketrans('', '', string.punctuation)\n",
    "    stripped = [w.translate(table) for w in tokens]\n",
    "    # remove remaining tokens that are not alphabetic\n",
    "    words = [word for word in stripped if word.isalpha()]\n",
    "    return words\n",
    "     "
   ]
  },
  {
   "cell_type": "code",
   "execution_count": 59,
   "id": "552d3f90",
   "metadata": {},
   "outputs": [],
   "source": [
    "\n",
    "def processProductName(product):\n",
    "\n",
    "    # break the sentence into words\n",
    "    tokens = word_tokenize(product)\n",
    "\n",
    "    \n",
    "    #remove punctuation\n",
    "    tokens = filterPunctuations(tokens)\n",
    " \n",
    "    \n",
    "    #convert to lower case\n",
    "    tokens = [w.lower() for w in tokens]\n",
    "  \n",
    "\n",
    "    #remove stopwords\n",
    "    from nltk.corpus import stopwords\n",
    "    stop_words = set(stopwords.words('english'))\n",
    "    words=list(filter(lambda word:word not in stop_words,tokens))   \n",
    "\n",
    "    \n",
    "    #lemmatize the words\n",
    "    wordnet_lemmatizer=WordNetLemmatizer()\n",
    "    words=[wordnet_lemmatizer.lemmatize(word) for word in words]\n",
    " \n",
    "    \n",
    "    #unique words\n",
    "    words=pd.Series(words).drop_duplicates().tolist()\n",
    "    return words"
   ]
  },
  {
   "cell_type": "code",
   "execution_count": 60,
   "id": "74fb93e0",
   "metadata": {},
   "outputs": [
    {
     "data": {
      "text/html": [
       "<div>\n",
       "<style scoped>\n",
       "    .dataframe tbody tr th:only-of-type {\n",
       "        vertical-align: middle;\n",
       "    }\n",
       "\n",
       "    .dataframe tbody tr th {\n",
       "        vertical-align: top;\n",
       "    }\n",
       "\n",
       "    .dataframe thead th {\n",
       "        text-align: right;\n",
       "    }\n",
       "</style>\n",
       "<table border=\"1\" class=\"dataframe\">\n",
       "  <thead>\n",
       "    <tr style=\"text-align: right;\">\n",
       "      <th></th>\n",
       "      <th>text</th>\n",
       "      <th>token_list</th>\n",
       "      <th>token</th>\n",
       "      <th>target</th>\n",
       "    </tr>\n",
       "  </thead>\n",
       "  <tbody>\n",
       "    <tr>\n",
       "      <th>0</th>\n",
       "      <td>RSPCA Approved Chicken Necks</td>\n",
       "      <td>[rspca, approved, chicken, neck]</td>\n",
       "      <td>rspca approved chicken neck</td>\n",
       "      <td>Meat</td>\n",
       "    </tr>\n",
       "    <tr>\n",
       "      <th>1</th>\n",
       "      <td>RSPCA Approved Chicken Livers</td>\n",
       "      <td>[rspca, approved, chicken, liver]</td>\n",
       "      <td>rspca approved chicken liver</td>\n",
       "      <td>Meat</td>\n",
       "    </tr>\n",
       "    <tr>\n",
       "      <th>2</th>\n",
       "      <td>RSPCA Approved Chicken Giblets</td>\n",
       "      <td>[rspca, approved, chicken, giblet]</td>\n",
       "      <td>rspca approved chicken giblet</td>\n",
       "      <td>Meat</td>\n",
       "    </tr>\n",
       "    <tr>\n",
       "      <th>3</th>\n",
       "      <td>RSPCA Approved Chicken Frames</td>\n",
       "      <td>[rspca, approved, chicken, frame]</td>\n",
       "      <td>rspca approved chicken frame</td>\n",
       "      <td>Meat</td>\n",
       "    </tr>\n",
       "    <tr>\n",
       "      <th>4</th>\n",
       "      <td>RSPCA Chicken Schnitzel Plain Crumb</td>\n",
       "      <td>[rspca, chicken, schnitzel, plain, crumb]</td>\n",
       "      <td>rspca chicken schnitzel plain crumb</td>\n",
       "      <td>Meat</td>\n",
       "    </tr>\n",
       "  </tbody>\n",
       "</table>\n",
       "</div>"
      ],
      "text/plain": [
       "                                  text  \\\n",
       "0         RSPCA Approved Chicken Necks   \n",
       "1        RSPCA Approved Chicken Livers   \n",
       "2       RSPCA Approved Chicken Giblets   \n",
       "3        RSPCA Approved Chicken Frames   \n",
       "4  RSPCA Chicken Schnitzel Plain Crumb   \n",
       "\n",
       "                                  token_list  \\\n",
       "0           [rspca, approved, chicken, neck]   \n",
       "1          [rspca, approved, chicken, liver]   \n",
       "2         [rspca, approved, chicken, giblet]   \n",
       "3          [rspca, approved, chicken, frame]   \n",
       "4  [rspca, chicken, schnitzel, plain, crumb]   \n",
       "\n",
       "                                 token target  \n",
       "0          rspca approved chicken neck   Meat  \n",
       "1         rspca approved chicken liver   Meat  \n",
       "2        rspca approved chicken giblet   Meat  \n",
       "3         rspca approved chicken frame   Meat  \n",
       "4  rspca chicken schnitzel plain crumb   Meat  "
      ]
     },
     "execution_count": 60,
     "metadata": {},
     "output_type": "execute_result"
    }
   ],
   "source": [
    "data1=[]\n",
    "\n",
    "for index, row in df.iterrows(): \n",
    "    product=row[\"Product_Name\"]\n",
    "    words=processProductName(product)\n",
    "    data1.append({\"text\":product,\"token_list\":words,\"token\":' '.join(words),\"target\":row[\"Category\"]})\n",
    "df1=pd.DataFrame(data1)\n",
    "\n",
    "#df1['token'] = df1.apply(\n",
    "#    lambda row: remove_matching_words(row['token'], stemmed_list) if row['target'] != 'Fresh Produce' else row['token'],\n",
    "#    axis=1\n",
    "#)\n",
    "\n",
    "df1.head(5)"
   ]
  },
  {
   "cell_type": "code",
   "execution_count": null,
   "id": "45994bc9",
   "metadata": {},
   "outputs": [],
   "source": [
    "df1"
   ]
  },
  {
   "cell_type": "code",
   "execution_count": 61,
   "id": "ab8e48de",
   "metadata": {},
   "outputs": [],
   "source": [
    "fg_list = ['Cabbage', 'Cucumber', 'Chillies', 'Potatoes', 'Carrot', \n",
    "           'Beans', 'Kiwifruit', 'Sprouts', 'Avocado', 'Onion', 'Beetroot', 'Spinach',\n",
    "          'Onions','Watermelon', 'Grape', 'Murcott', 'Leaf', 'Chilli', 'Garlic', 'Veggie', 'Blackberries',\n",
    "          'Broccoli', 'Turmeric', 'Asparagus', 'Drumhead', 'Pumpkin', 'Cloves', 'Passionfruit',\n",
    "          'Oranges', 'Cherries', 'Mandarins', 'Apple', 'Grapes', 'Ginger','Capsicums', 'Melons',\n",
    "          'Peaches', 'Lettuce', 'Peas', 'Capsicum', 'Cauliflower', 'Tomatoes', 'Limes', 'Corn', 'Blueberries',\n",
    "          'Jalapeno', 'Mangoes', 'Radish', 'Lemons', 'Cherry', 'Strawberries', 'Pineapple', 'Bananas', 'Turnips',\n",
    "          'Orange', 'Grapefruit', 'Carrots', 'Mushrooms']"
   ]
  },
  {
   "cell_type": "code",
   "execution_count": 62,
   "id": "39edacaf",
   "metadata": {},
   "outputs": [],
   "source": [
    "def remove_matching_words(df, stemmed_fg_list):\n",
    "    # Create two new dataframes to store the balanced and discluded data\n",
    "    balanced_df = pd.DataFrame(columns=df.columns)\n",
    "    disclude_df = pd.DataFrame(columns=df.columns)\n",
    "    \n",
    "    # Iterate over each category in 'target' excluding 'Fresh Produce'\n",
    "    for cat in df['target'].unique():\n",
    "        if cat == 'Fresh Produce':\n",
    "            continue\n",
    "        \n",
    "        # For each word in the stemmed_fg_list\n",
    "        for val in stemmed_fg_list:\n",
    "            \n",
    "            # Find items in 'Fresh Produce' that contain the current word\n",
    "            fresh_produce_items = df[(df['token'].str.contains(val, case=False, na=False)) & \n",
    "                                     (df['target'] == 'Fresh Produce')]\n",
    "            \n",
    "            # Find items in the current category that contain the current word\n",
    "            fruits_df = df[(df['token'].str.contains(val, case=False, na=False)) & \n",
    "                           (df['target'] == cat)]\n",
    "            \n",
    "            # Determine how many items to keep to balance the categories\n",
    "            num_to_keep = min(len(fruits_df), len(fresh_produce_items))\n",
    "            \n",
    "            # Select the balanced number of items from the current category\n",
    "            balanced_fruits = fruits_df.head(num_to_keep)\n",
    "            \n",
    "            # The remaining fruits that were not selected\n",
    "            remaining_fruits = fruits_df.loc[~fruits_df.index.isin(balanced_fruits.index)]\n",
    "            \n",
    "            # Append the balanced items to the balanced_df\n",
    "            balanced_df = pd.concat([balanced_df, balanced_fruits], ignore_index=True)\n",
    "            \n",
    "            # Append the unselected (excluded) items to disclude_df\n",
    "            disclude_df = pd.concat([disclude_df, remaining_fruits], ignore_index=True)\n",
    "    \n",
    "    # Exclude all the rows in disclude_df from the original dataframe\n",
    "    disclude_indexes = disclude_df.index\n",
    "    remaining_df = df.loc[~df.index.isin(disclude_indexes)]\n",
    "    \n",
    "    # Combine the balanced dataframe with the remaining rows that were not discluded\n",
    "    final_df = pd.concat([balanced_df, remaining_df], ignore_index=True)\n",
    "    \n",
    "    return final_df"
   ]
  },
  {
   "cell_type": "code",
   "execution_count": 63,
   "id": "8e849b5e",
   "metadata": {},
   "outputs": [],
   "source": [
    "final_df = remove_matching_words(df1, fg_list)"
   ]
  },
  {
   "cell_type": "code",
   "execution_count": 64,
   "id": "fef3a967",
   "metadata": {},
   "outputs": [
    {
     "data": {
      "text/plain": [
       "array(['Meat', 'Cold Storage', 'Pantry', 'Drinks', 'Fresh Produce'],\n",
       "      dtype=object)"
      ]
     },
     "execution_count": 64,
     "metadata": {},
     "output_type": "execute_result"
    }
   ],
   "source": [
    "final_df['target'].unique()"
   ]
  },
  {
   "cell_type": "code",
   "execution_count": 65,
   "id": "043e04b7",
   "metadata": {},
   "outputs": [
    {
     "data": {
      "text/plain": [
       "7514"
      ]
     },
     "execution_count": 65,
     "metadata": {},
     "output_type": "execute_result"
    }
   ],
   "source": [
    "len(final_df)"
   ]
  },
  {
   "cell_type": "code",
   "execution_count": 217,
   "id": "ac15c3d4",
   "metadata": {},
   "outputs": [
    {
     "name": "stdout",
     "output_type": "stream",
     "text": [
      "target\n",
      "Pantry           4521\n",
      "Cold Storage     1309\n",
      "Drinks           1040\n",
      "Meat              389\n",
      "Fresh Produce     255\n",
      "Name: count, dtype: int64\n"
     ]
    }
   ],
   "source": [
    "# Assuming 'column_name' is the categorical column\n",
    "category_counts = final_df['target'].value_counts()\n",
    "\n",
    "print(category_counts)"
   ]
  },
  {
   "cell_type": "code",
   "execution_count": 199,
   "id": "53e474a3",
   "metadata": {},
   "outputs": [
    {
     "data": {
      "text/plain": [
       "2993"
      ]
     },
     "execution_count": 199,
     "metadata": {},
     "output_type": "execute_result"
    }
   ],
   "source": [
    "balance_df = final_df[final_df['target'].isin(['Fresh Produce', 'Meat', 'Cold Storage', 'Drinks'])]\n",
    "len(balance_df)"
   ]
  },
  {
   "cell_type": "code",
   "execution_count": 200,
   "id": "7b48eba9",
   "metadata": {},
   "outputs": [
    {
     "data": {
      "text/plain": [
       "4493"
      ]
     },
     "execution_count": 200,
     "metadata": {},
     "output_type": "execute_result"
    }
   ],
   "source": [
    "balance_df = pd.concat([balance_df, final_df[final_df['target'].isin(['Pantry'])].head(1500)])\n",
    "len(balance_df)"
   ]
  },
  {
   "cell_type": "code",
   "execution_count": 146,
   "id": "9348c6da",
   "metadata": {},
   "outputs": [
    {
     "data": {
      "text/plain": [
       "21"
      ]
     },
     "execution_count": 146,
     "metadata": {},
     "output_type": "execute_result"
    }
   ],
   "source": [
    "fruits_df = final_df[final_df['target'] == 'Cold Storage']\n",
    "fruits_df = fruits_df[fruits_df['token'].str.contains('banana', case=False, na=False)]\n",
    "len(fruits_df)"
   ]
  },
  {
   "cell_type": "code",
   "execution_count": 132,
   "id": "b47c0dce",
   "metadata": {},
   "outputs": [],
   "source": [
    "from sklearn.model_selection import train_test_split"
   ]
  },
  {
   "cell_type": "code",
   "execution_count": 202,
   "id": "55ec3651",
   "metadata": {},
   "outputs": [],
   "source": [
    "X=balance_df.iloc[:,2]\n",
    "y=balance_df.iloc[:,3]\n",
    "     \n",
    "\n",
    "X_train, X_test, y_train, y_test = train_test_split(X, y, test_size=0.3, random_state=42)"
   ]
  },
  {
   "cell_type": "code",
   "execution_count": 203,
   "id": "829ab7fb",
   "metadata": {},
   "outputs": [
    {
     "data": {
      "text/plain": [
       "25               Meat\n",
       "802      Cold Storage\n",
       "7083    Fresh Produce\n",
       "2172           Pantry\n",
       "317     Fresh Produce\n",
       "            ...      \n",
       "2447           Pantry\n",
       "610      Cold Storage\n",
       "191            Pantry\n",
       "1793           Pantry\n",
       "1004     Cold Storage\n",
       "Name: target, Length: 3145, dtype: object"
      ]
     },
     "execution_count": 203,
     "metadata": {},
     "output_type": "execute_result"
    }
   ],
   "source": [
    "y_train"
   ]
  },
  {
   "cell_type": "code",
   "execution_count": 204,
   "id": "b2c5ee5c",
   "metadata": {},
   "outputs": [],
   "source": [
    "from sklearn.feature_extraction.text import CountVectorizer, TfidfTransformer\n",
    "vectorizer = CountVectorizer()\n",
    "X_train_cv=vectorizer.fit_transform(X_train)\n",
    "transformer = TfidfTransformer()\n",
    "X_train_tfidf = transformer.fit_transform(X_train_cv)\n",
    "X_test_cv=vectorizer.transform(X_test)\n",
    "X_test_tfidf = transformer.transform(X_test_cv)"
   ]
  },
  {
   "cell_type": "code",
   "execution_count": 205,
   "id": "1eea4507",
   "metadata": {
    "scrolled": true
   },
   "outputs": [
    {
     "name": "stdout",
     "output_type": "stream",
     "text": [
      "    classifier  cross-validated F1 score\n",
      "0  Naive Bayes                  0.904296\n"
     ]
    }
   ],
   "source": [
    "naive_bayes={\"Naive Bayes\":MultinomialNB()}\n",
    "     \n",
    "\n",
    "from sklearn.model_selection import cross_val_score,KFold\n",
    "from sklearn.metrics import f1_score\n",
    "\n",
    "def eval_model(models):\n",
    "    cv = KFold(n_splits=10)\n",
    "    scores=[]\n",
    "    for model in models:\n",
    "        clf=models[model]\n",
    "        clf.fit(X_train_tfidf, y_train)\n",
    "        y_pred=clf.predict(X_test_tfidf)\n",
    "        f1=cross_val_score(clf, X_train_tfidf, y_train, cv=cv,scoring=\"f1_micro\")\n",
    "        scores.append({\"classifier\":model,\"cross-validated F1 score\":f1.mean()})\n",
    "    scores_df=pd.DataFrame(scores)\n",
    "    print(scores_df.head())\n",
    "    \n",
    "eval_model(naive_bayes)"
   ]
  },
  {
   "cell_type": "code",
   "execution_count": 206,
   "id": "561bb29d",
   "metadata": {},
   "outputs": [
    {
     "name": "stdout",
     "output_type": "stream",
     "text": [
      "  classifier  cross-validated F1 score\n",
      "0        KNN                  0.899525\n"
     ]
    }
   ],
   "source": [
    "knn={\"KNN\":KNeighborsClassifier()}\n",
    "eval_model(knn)"
   ]
  },
  {
   "cell_type": "code",
   "execution_count": 207,
   "id": "d450d52c",
   "metadata": {},
   "outputs": [
    {
     "name": "stdout",
     "output_type": "stream",
     "text": [
      "      classifier  cross-validated F1 score\n",
      "0  Decision Tree                   0.89413\n"
     ]
    }
   ],
   "source": [
    "dt={\"Decision Tree\":DecisionTreeClassifier()}\n",
    "eval_model(dt)"
   ]
  },
  {
   "cell_type": "code",
   "execution_count": 208,
   "id": "32169426",
   "metadata": {},
   "outputs": [
    {
     "name": "stdout",
     "output_type": "stream",
     "text": [
      "  classifier  cross-validated F1 score\n",
      "0        SVM                  0.937036\n"
     ]
    }
   ],
   "source": [
    "svm = {\"SVM\":SVC(C=1.0, kernel='linear', gamma='auto')}\n",
    "eval_model(svm)"
   ]
  },
  {
   "cell_type": "code",
   "execution_count": 209,
   "id": "c8e726fb",
   "metadata": {},
   "outputs": [
    {
     "name": "stdout",
     "output_type": "stream",
     "text": [
      "Enter the product name : banana\n",
      "The predicted category is:  Cold Storage\n"
     ]
    }
   ],
   "source": [
    "def vectorize(value):\n",
    "    cv=vectorizer.transform(value)\n",
    "    tfidf = transformer.transform(cv)\n",
    "    return tfidf\n",
    "     \n",
    "\n",
    "def predict_category(text):\n",
    "    X_test=pd.DataFrame([text],columns=[\"token\"])\n",
    "    results=[]\n",
    "    for index, row in X_test.iterrows(): \n",
    "        product=row[\"token\"]\n",
    "        words=' '.join(processProductName(product))\n",
    "        results.append(words)\n",
    "    X_test=vectorize(results)\n",
    "    return svm[\"SVM\"].predict(X_test)[0]\n",
    "     \n",
    "\n",
    "category=predict_category(input(\"Enter the product name : \"))\n",
    "print(\"The predicted category is: \",category)"
   ]
  },
  {
   "cell_type": "code",
   "execution_count": 160,
   "id": "ef1bb4e2",
   "metadata": {},
   "outputs": [],
   "source": [
    "prod_data = pd.read_csv('filtered_australia_products.csv', sep = '\\t', low_memory=False)"
   ]
  },
  {
   "cell_type": "code",
   "execution_count": 161,
   "id": "f6de1a54",
   "metadata": {},
   "outputs": [],
   "source": [
    "prod_data = prod_data[['code', 'main_category', 'product_name']]"
   ]
  },
  {
   "cell_type": "code",
   "execution_count": 162,
   "id": "7efc469c",
   "metadata": {},
   "outputs": [
    {
     "data": {
      "text/html": [
       "<div>\n",
       "<style scoped>\n",
       "    .dataframe tbody tr th:only-of-type {\n",
       "        vertical-align: middle;\n",
       "    }\n",
       "\n",
       "    .dataframe tbody tr th {\n",
       "        vertical-align: top;\n",
       "    }\n",
       "\n",
       "    .dataframe thead th {\n",
       "        text-align: right;\n",
       "    }\n",
       "</style>\n",
       "<table border=\"1\" class=\"dataframe\">\n",
       "  <thead>\n",
       "    <tr style=\"text-align: right;\">\n",
       "      <th></th>\n",
       "      <th>code</th>\n",
       "      <th>main_category</th>\n",
       "      <th>product_name</th>\n",
       "    </tr>\n",
       "  </thead>\n",
       "  <tbody>\n",
       "    <tr>\n",
       "      <th>0</th>\n",
       "      <td>0000093718738</td>\n",
       "      <td>NaN</td>\n",
       "      <td>Horseradish cream</td>\n",
       "    </tr>\n",
       "    <tr>\n",
       "      <th>1</th>\n",
       "      <td>00001007</td>\n",
       "      <td>NaN</td>\n",
       "      <td>PURINA FIEST 0CN/WESH TUNA85GM</td>\n",
       "    </tr>\n",
       "    <tr>\n",
       "      <th>2</th>\n",
       "      <td>0000123457033</td>\n",
       "      <td>NaN</td>\n",
       "      <td>Almond Meal</td>\n",
       "    </tr>\n",
       "    <tr>\n",
       "      <th>3</th>\n",
       "      <td>0000680000017</td>\n",
       "      <td>NaN</td>\n",
       "      <td>100% Australian Tea Tree Oil</td>\n",
       "    </tr>\n",
       "    <tr>\n",
       "      <th>4</th>\n",
       "      <td>0000680000024</td>\n",
       "      <td>NaN</td>\n",
       "      <td>100% Australian Tea Tree Oil</td>\n",
       "    </tr>\n",
       "  </tbody>\n",
       "</table>\n",
       "</div>"
      ],
      "text/plain": [
       "            code main_category                    product_name\n",
       "0  0000093718738           NaN               Horseradish cream\n",
       "1       00001007           NaN  PURINA FIEST 0CN/WESH TUNA85GM\n",
       "2  0000123457033           NaN                     Almond Meal\n",
       "3  0000680000017           NaN    100% Australian Tea Tree Oil\n",
       "4  0000680000024           NaN    100% Australian Tea Tree Oil"
      ]
     },
     "execution_count": 162,
     "metadata": {},
     "output_type": "execute_result"
    }
   ],
   "source": [
    "prod_data.head()"
   ]
  },
  {
   "cell_type": "code",
   "execution_count": 210,
   "id": "234c3e1c",
   "metadata": {},
   "outputs": [],
   "source": [
    "for idx, row in prod_data.iterrows():\n",
    "    if (pd.isna(row['product_name'])):\n",
    "        prod_data.loc[idx, 'main_category'] = 'Pantry'\n",
    "    else:\n",
    "        prod_data.loc[idx, 'main_category'] = predict_category(row['product_name'])"
   ]
  },
  {
   "cell_type": "code",
   "execution_count": 215,
   "id": "c8c6a51c",
   "metadata": {},
   "outputs": [
    {
     "data": {
      "text/html": [
       "<div>\n",
       "<style scoped>\n",
       "    .dataframe tbody tr th:only-of-type {\n",
       "        vertical-align: middle;\n",
       "    }\n",
       "\n",
       "    .dataframe tbody tr th {\n",
       "        vertical-align: top;\n",
       "    }\n",
       "\n",
       "    .dataframe thead th {\n",
       "        text-align: right;\n",
       "    }\n",
       "</style>\n",
       "<table border=\"1\" class=\"dataframe\">\n",
       "  <thead>\n",
       "    <tr style=\"text-align: right;\">\n",
       "      <th></th>\n",
       "      <th>code</th>\n",
       "      <th>main_category</th>\n",
       "      <th>product_name</th>\n",
       "    </tr>\n",
       "  </thead>\n",
       "  <tbody>\n",
       "    <tr>\n",
       "      <th>200</th>\n",
       "      <td>0034000470754</td>\n",
       "      <td>Pantry</td>\n",
       "      <td>Reeses</td>\n",
       "    </tr>\n",
       "    <tr>\n",
       "      <th>201</th>\n",
       "      <td>0034000702596</td>\n",
       "      <td>Pantry</td>\n",
       "      <td>Reese's 2 Peanut Butter Cups</td>\n",
       "    </tr>\n",
       "    <tr>\n",
       "      <th>202</th>\n",
       "      <td>0034000702602</td>\n",
       "      <td>Pantry</td>\n",
       "      <td>Miniature Peanut Butter Cups</td>\n",
       "    </tr>\n",
       "    <tr>\n",
       "      <th>203</th>\n",
       "      <td>0034027985194</td>\n",
       "      <td>Drinks</td>\n",
       "      <td>Bare ginger uncrystallised</td>\n",
       "    </tr>\n",
       "    <tr>\n",
       "      <th>204</th>\n",
       "      <td>00341477</td>\n",
       "      <td>Fresh Produce</td>\n",
       "      <td>FAREX BABY PORRIDGE</td>\n",
       "    </tr>\n",
       "    <tr>\n",
       "      <th>205</th>\n",
       "      <td>0034856002062</td>\n",
       "      <td>Pantry</td>\n",
       "      <td>Welches</td>\n",
       "    </tr>\n",
       "    <tr>\n",
       "      <th>206</th>\n",
       "      <td>0034856014164</td>\n",
       "      <td>Pantry</td>\n",
       "      <td>Welch’s</td>\n",
       "    </tr>\n",
       "    <tr>\n",
       "      <th>207</th>\n",
       "      <td>0034856014171</td>\n",
       "      <td>Pantry</td>\n",
       "      <td>Fruit Snacks</td>\n",
       "    </tr>\n",
       "    <tr>\n",
       "      <th>208</th>\n",
       "      <td>0034856014683</td>\n",
       "      <td>Pantry</td>\n",
       "      <td>Welch</td>\n",
       "    </tr>\n",
       "    <tr>\n",
       "      <th>209</th>\n",
       "      <td>0034856201465</td>\n",
       "      <td>Pantry</td>\n",
       "      <td>Fruit snacks</td>\n",
       "    </tr>\n",
       "    <tr>\n",
       "      <th>210</th>\n",
       "      <td>0034856201489</td>\n",
       "      <td>Pantry</td>\n",
       "      <td>Mixed fruit snacks</td>\n",
       "    </tr>\n",
       "    <tr>\n",
       "      <th>211</th>\n",
       "      <td>0034856208686</td>\n",
       "      <td>Pantry</td>\n",
       "      <td>Mixed fruit Snacks</td>\n",
       "    </tr>\n",
       "    <tr>\n",
       "      <th>212</th>\n",
       "      <td>0034856950806</td>\n",
       "      <td>Cold Storage</td>\n",
       "      <td>Yoghurt fruit</td>\n",
       "    </tr>\n",
       "    <tr>\n",
       "      <th>213</th>\n",
       "      <td>00350659</td>\n",
       "      <td>Pantry</td>\n",
       "      <td>RAFFERTY PUM/APL/SWT CRN 120GM</td>\n",
       "    </tr>\n",
       "    <tr>\n",
       "      <th>214</th>\n",
       "      <td>00351313</td>\n",
       "      <td>Pantry</td>\n",
       "      <td>B/GOLD /CRM CONE CUP120GM 30S</td>\n",
       "    </tr>\n",
       "    <tr>\n",
       "      <th>215</th>\n",
       "      <td>0035549871040</td>\n",
       "      <td>Pantry</td>\n",
       "      <td>Syrup</td>\n",
       "    </tr>\n",
       "    <tr>\n",
       "      <th>216</th>\n",
       "      <td>0036632075376</td>\n",
       "      <td>Pantry</td>\n",
       "      <td>So delicious icecream</td>\n",
       "    </tr>\n",
       "    <tr>\n",
       "      <th>217</th>\n",
       "      <td>0036632075383</td>\n",
       "      <td>Pantry</td>\n",
       "      <td>Salted caramel 'n' choc chip cashew</td>\n",
       "    </tr>\n",
       "    <tr>\n",
       "      <th>218</th>\n",
       "      <td>0037014242256</td>\n",
       "      <td>Pantry</td>\n",
       "      <td>Dark Chocolate With Hazelnut Toffee (Black Rhino)</td>\n",
       "    </tr>\n",
       "    <tr>\n",
       "      <th>219</th>\n",
       "      <td>0037171992117</td>\n",
       "      <td>Drinks</td>\n",
       "      <td>Coffee</td>\n",
       "    </tr>\n",
       "    <tr>\n",
       "      <th>220</th>\n",
       "      <td>0037466018287</td>\n",
       "      <td>Cold Storage</td>\n",
       "      <td>Milk chocolate gold bunny</td>\n",
       "    </tr>\n",
       "    <tr>\n",
       "      <th>221</th>\n",
       "      <td>0037600118293</td>\n",
       "      <td>Cold Storage</td>\n",
       "      <td>Spam hickory smoke flavoured</td>\n",
       "    </tr>\n",
       "    <tr>\n",
       "      <th>222</th>\n",
       "      <td>0037600124676</td>\n",
       "      <td>Pantry</td>\n",
       "      <td>SPAM hot and spicy</td>\n",
       "    </tr>\n",
       "    <tr>\n",
       "      <th>223</th>\n",
       "      <td>0037600177948</td>\n",
       "      <td>Pantry</td>\n",
       "      <td>Protein bar mango cheese cake</td>\n",
       "    </tr>\n",
       "    <tr>\n",
       "      <th>224</th>\n",
       "      <td>0037600177962</td>\n",
       "      <td>Pantry</td>\n",
       "      <td>blueberry waffle protein bar</td>\n",
       "    </tr>\n",
       "    <tr>\n",
       "      <th>225</th>\n",
       "      <td>0037600222181</td>\n",
       "      <td>Pantry</td>\n",
       "      <td>Beurre de cacahuète</td>\n",
       "    </tr>\n",
       "    <tr>\n",
       "      <th>226</th>\n",
       "      <td>0037600222198</td>\n",
       "      <td>Pantry</td>\n",
       "      <td>Skippy Peanut Butter super chunk</td>\n",
       "    </tr>\n",
       "    <tr>\n",
       "      <th>227</th>\n",
       "      <td>0037600293525</td>\n",
       "      <td>Pantry</td>\n",
       "      <td>Peanut butter</td>\n",
       "    </tr>\n",
       "    <tr>\n",
       "      <th>228</th>\n",
       "      <td>0037600293532</td>\n",
       "      <td>Cold Storage</td>\n",
       "      <td>Extra crunchy super chunk</td>\n",
       "    </tr>\n",
       "    <tr>\n",
       "      <th>229</th>\n",
       "      <td>0037600293549</td>\n",
       "      <td>Pantry</td>\n",
       "      <td>Peanut Butter</td>\n",
       "    </tr>\n",
       "    <tr>\n",
       "      <th>230</th>\n",
       "      <td>0037600293556</td>\n",
       "      <td>Pantry</td>\n",
       "      <td>Peanut butter</td>\n",
       "    </tr>\n",
       "    <tr>\n",
       "      <th>231</th>\n",
       "      <td>0037600327671</td>\n",
       "      <td>Pantry</td>\n",
       "      <td>Spam</td>\n",
       "    </tr>\n",
       "    <tr>\n",
       "      <th>232</th>\n",
       "      <td>0037600339988</td>\n",
       "      <td>Pantry</td>\n",
       "      <td>Fully Cooked American Bacon</td>\n",
       "    </tr>\n",
       "    <tr>\n",
       "      <th>233</th>\n",
       "      <td>0037600349536</td>\n",
       "      <td>Cold Storage</td>\n",
       "      <td>Spam Classic 340G</td>\n",
       "    </tr>\n",
       "    <tr>\n",
       "      <th>234</th>\n",
       "      <td>0037600415743</td>\n",
       "      <td>Meat</td>\n",
       "      <td>Processed Pork Meat</td>\n",
       "    </tr>\n",
       "    <tr>\n",
       "      <th>235</th>\n",
       "      <td>0037600423144</td>\n",
       "      <td>Pantry</td>\n",
       "      <td>Extra Crunchy Natural Super Chunk</td>\n",
       "    </tr>\n",
       "    <tr>\n",
       "      <th>236</th>\n",
       "      <td>0037600446556</td>\n",
       "      <td>Pantry</td>\n",
       "      <td>Spam Turkey</td>\n",
       "    </tr>\n",
       "    <tr>\n",
       "      <th>237</th>\n",
       "      <td>0037600474689</td>\n",
       "      <td>Meat</td>\n",
       "      <td>Luncheon Meat</td>\n",
       "    </tr>\n",
       "    <tr>\n",
       "      <th>238</th>\n",
       "      <td>0037600528139</td>\n",
       "      <td>Pantry</td>\n",
       "      <td>Real Hormel bacon</td>\n",
       "    </tr>\n",
       "    <tr>\n",
       "      <th>239</th>\n",
       "      <td>0037600880978</td>\n",
       "      <td>Drinks</td>\n",
       "      <td>Protein Bar Raspberry Cheesecake</td>\n",
       "    </tr>\n",
       "    <tr>\n",
       "      <th>240</th>\n",
       "      <td>0038000127786</td>\n",
       "      <td>Pantry</td>\n",
       "      <td>Xtra Fiery Sweet Grill</td>\n",
       "    </tr>\n",
       "    <tr>\n",
       "      <th>241</th>\n",
       "      <td>0038000136498</td>\n",
       "      <td>Pantry</td>\n",
       "      <td>sweet chilli</td>\n",
       "    </tr>\n",
       "    <tr>\n",
       "      <th>242</th>\n",
       "      <td>0038000846502</td>\n",
       "      <td>Pantry</td>\n",
       "      <td>Pringles Original</td>\n",
       "    </tr>\n",
       "    <tr>\n",
       "      <th>243</th>\n",
       "      <td>0038900012014</td>\n",
       "      <td>Pantry</td>\n",
       "      <td>dole pineapple slices</td>\n",
       "    </tr>\n",
       "    <tr>\n",
       "      <th>244</th>\n",
       "      <td>0038900012113</td>\n",
       "      <td>Pantry</td>\n",
       "      <td>Pineapple slices in juice</td>\n",
       "    </tr>\n",
       "    <tr>\n",
       "      <th>245</th>\n",
       "      <td>0038900012441</td>\n",
       "      <td>Pantry</td>\n",
       "      <td>Pineapple slices in Juice</td>\n",
       "    </tr>\n",
       "    <tr>\n",
       "      <th>246</th>\n",
       "      <td>0038900012779</td>\n",
       "      <td>Pantry</td>\n",
       "      <td>Pineapple slices</td>\n",
       "    </tr>\n",
       "    <tr>\n",
       "      <th>247</th>\n",
       "      <td>0038900013400</td>\n",
       "      <td>Pantry</td>\n",
       "      <td>Pineapple slices in juice</td>\n",
       "    </tr>\n",
       "    <tr>\n",
       "      <th>248</th>\n",
       "      <td>0038900014643</td>\n",
       "      <td>Pantry</td>\n",
       "      <td>Pineapple chunks in Juice</td>\n",
       "    </tr>\n",
       "    <tr>\n",
       "      <th>249</th>\n",
       "      <td>0038900014674</td>\n",
       "      <td>Pantry</td>\n",
       "      <td>Pineapple Crushed in Juice</td>\n",
       "    </tr>\n",
       "  </tbody>\n",
       "</table>\n",
       "</div>"
      ],
      "text/plain": [
       "              code  main_category  \\\n",
       "200  0034000470754         Pantry   \n",
       "201  0034000702596         Pantry   \n",
       "202  0034000702602         Pantry   \n",
       "203  0034027985194         Drinks   \n",
       "204       00341477  Fresh Produce   \n",
       "205  0034856002062         Pantry   \n",
       "206  0034856014164         Pantry   \n",
       "207  0034856014171         Pantry   \n",
       "208  0034856014683         Pantry   \n",
       "209  0034856201465         Pantry   \n",
       "210  0034856201489         Pantry   \n",
       "211  0034856208686         Pantry   \n",
       "212  0034856950806   Cold Storage   \n",
       "213       00350659         Pantry   \n",
       "214       00351313         Pantry   \n",
       "215  0035549871040         Pantry   \n",
       "216  0036632075376         Pantry   \n",
       "217  0036632075383         Pantry   \n",
       "218  0037014242256         Pantry   \n",
       "219  0037171992117         Drinks   \n",
       "220  0037466018287   Cold Storage   \n",
       "221  0037600118293   Cold Storage   \n",
       "222  0037600124676         Pantry   \n",
       "223  0037600177948         Pantry   \n",
       "224  0037600177962         Pantry   \n",
       "225  0037600222181         Pantry   \n",
       "226  0037600222198         Pantry   \n",
       "227  0037600293525         Pantry   \n",
       "228  0037600293532   Cold Storage   \n",
       "229  0037600293549         Pantry   \n",
       "230  0037600293556         Pantry   \n",
       "231  0037600327671         Pantry   \n",
       "232  0037600339988         Pantry   \n",
       "233  0037600349536   Cold Storage   \n",
       "234  0037600415743           Meat   \n",
       "235  0037600423144         Pantry   \n",
       "236  0037600446556         Pantry   \n",
       "237  0037600474689           Meat   \n",
       "238  0037600528139         Pantry   \n",
       "239  0037600880978         Drinks   \n",
       "240  0038000127786         Pantry   \n",
       "241  0038000136498         Pantry   \n",
       "242  0038000846502         Pantry   \n",
       "243  0038900012014         Pantry   \n",
       "244  0038900012113         Pantry   \n",
       "245  0038900012441         Pantry   \n",
       "246  0038900012779         Pantry   \n",
       "247  0038900013400         Pantry   \n",
       "248  0038900014643         Pantry   \n",
       "249  0038900014674         Pantry   \n",
       "\n",
       "                                          product_name  \n",
       "200                                             Reeses  \n",
       "201                       Reese's 2 Peanut Butter Cups  \n",
       "202                       Miniature Peanut Butter Cups  \n",
       "203                         Bare ginger uncrystallised  \n",
       "204                                FAREX BABY PORRIDGE  \n",
       "205                                            Welches  \n",
       "206                                            Welch’s  \n",
       "207                                       Fruit Snacks  \n",
       "208                                              Welch  \n",
       "209                                       Fruit snacks  \n",
       "210                                 Mixed fruit snacks  \n",
       "211                                 Mixed fruit Snacks  \n",
       "212                                      Yoghurt fruit  \n",
       "213                     RAFFERTY PUM/APL/SWT CRN 120GM  \n",
       "214                      B/GOLD /CRM CONE CUP120GM 30S  \n",
       "215                                              Syrup  \n",
       "216                              So delicious icecream  \n",
       "217                Salted caramel 'n' choc chip cashew  \n",
       "218  Dark Chocolate With Hazelnut Toffee (Black Rhino)  \n",
       "219                                             Coffee  \n",
       "220                          Milk chocolate gold bunny  \n",
       "221                       Spam hickory smoke flavoured  \n",
       "222                                 SPAM hot and spicy  \n",
       "223                      Protein bar mango cheese cake  \n",
       "224                       blueberry waffle protein bar  \n",
       "225                                Beurre de cacahuète  \n",
       "226                   Skippy Peanut Butter super chunk  \n",
       "227                                      Peanut butter  \n",
       "228                          Extra crunchy super chunk  \n",
       "229                                      Peanut Butter  \n",
       "230                                      Peanut butter  \n",
       "231                                               Spam  \n",
       "232                        Fully Cooked American Bacon  \n",
       "233                                  Spam Classic 340G  \n",
       "234                                Processed Pork Meat  \n",
       "235                  Extra Crunchy Natural Super Chunk  \n",
       "236                                        Spam Turkey  \n",
       "237                                      Luncheon Meat  \n",
       "238                                  Real Hormel bacon  \n",
       "239                   Protein Bar Raspberry Cheesecake  \n",
       "240                             Xtra Fiery Sweet Grill  \n",
       "241                                       sweet chilli  \n",
       "242                                  Pringles Original  \n",
       "243                              dole pineapple slices  \n",
       "244                          Pineapple slices in juice  \n",
       "245                          Pineapple slices in Juice  \n",
       "246                                   Pineapple slices  \n",
       "247                          Pineapple slices in juice  \n",
       "248                          Pineapple chunks in Juice  \n",
       "249                         Pineapple Crushed in Juice  "
      ]
     },
     "execution_count": 215,
     "metadata": {},
     "output_type": "execute_result"
    }
   ],
   "source": [
    "prod_data.iloc[200:250]"
   ]
  },
  {
   "cell_type": "code",
   "execution_count": 219,
   "id": "0162123f",
   "metadata": {},
   "outputs": [
    {
     "data": {
      "text/html": [
       "<div>\n",
       "<style scoped>\n",
       "    .dataframe tbody tr th:only-of-type {\n",
       "        vertical-align: middle;\n",
       "    }\n",
       "\n",
       "    .dataframe tbody tr th {\n",
       "        vertical-align: top;\n",
       "    }\n",
       "\n",
       "    .dataframe thead th {\n",
       "        text-align: right;\n",
       "    }\n",
       "</style>\n",
       "<table border=\"1\" class=\"dataframe\">\n",
       "  <thead>\n",
       "    <tr style=\"text-align: right;\">\n",
       "      <th></th>\n",
       "      <th>code</th>\n",
       "      <th>main_category</th>\n",
       "      <th>product_name</th>\n",
       "    </tr>\n",
       "  </thead>\n",
       "  <tbody>\n",
       "    <tr>\n",
       "      <th>47335</th>\n",
       "      <td>9415767068049</td>\n",
       "      <td>Cold Storage</td>\n",
       "      <td>Boss Ice Double Espresso Coffee</td>\n",
       "    </tr>\n",
       "  </tbody>\n",
       "</table>\n",
       "</div>"
      ],
      "text/plain": [
       "                code main_category                     product_name\n",
       "47335  9415767068049  Cold Storage  Boss Ice Double Espresso Coffee"
      ]
     },
     "execution_count": 219,
     "metadata": {},
     "output_type": "execute_result"
    }
   ],
   "source": [
    "fruits_df = prod_data[prod_data['code'] == '9415767068049']\n",
    "fruits_df"
   ]
  },
  {
   "cell_type": "code",
   "execution_count": 221,
   "id": "ee810de6",
   "metadata": {},
   "outputs": [],
   "source": [
    "code_data = prod_data[['code']]"
   ]
  },
  {
   "cell_type": "code",
   "execution_count": 222,
   "id": "37c30549",
   "metadata": {},
   "outputs": [
    {
     "name": "stdout",
     "output_type": "stream",
     "text": [
      "Number of duplicate rows: 0\n"
     ]
    }
   ],
   "source": [
    "# Assuming your DataFrame is named df\n",
    "\n",
    "# Find all duplicate rows\n",
    "duplicate_rows = code_data[code_data.duplicated()]\n",
    "\n",
    "# Count the number of duplicate rows\n",
    "num_duplicates = duplicate_rows.shape[0]\n",
    "\n",
    "print(\"Number of duplicate rows:\", num_duplicates)"
   ]
  },
  {
   "cell_type": "code",
   "execution_count": 220,
   "id": "aae121dd",
   "metadata": {},
   "outputs": [
    {
     "name": "stdout",
     "output_type": "stream",
     "text": [
      "Number of duplicate rows: 0\n"
     ]
    }
   ],
   "source": [
    "# Assuming your DataFrame is named df\n",
    "\n",
    "# Find all duplicate rows\n",
    "duplicate_rows = prod_data[prod_data.duplicated()]\n",
    "\n",
    "# Count the number of duplicate rows\n",
    "num_duplicates = duplicate_rows.shape[0]\n",
    "\n",
    "print(\"Number of duplicate rows:\", num_duplicates)"
   ]
  },
  {
   "cell_type": "code",
   "execution_count": 224,
   "id": "51c9aed5",
   "metadata": {},
   "outputs": [],
   "source": [
    "prod_data.to_csv('clean_data.csv', index=False, float_format='%.20g') "
   ]
  }
 ],
 "metadata": {
  "kernelspec": {
   "display_name": "Python 3 (ipykernel)",
   "language": "python",
   "name": "python3"
  },
  "language_info": {
   "codemirror_mode": {
    "name": "ipython",
    "version": 3
   },
   "file_extension": ".py",
   "mimetype": "text/x-python",
   "name": "python",
   "nbconvert_exporter": "python",
   "pygments_lexer": "ipython3",
   "version": "3.11.5"
  }
 },
 "nbformat": 4,
 "nbformat_minor": 5
}
